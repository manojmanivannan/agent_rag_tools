{
 "cells": [
  {
   "cell_type": "code",
   "execution_count": 1,
   "metadata": {},
   "outputs": [],
   "source": [
    "# import libraries\n",
    "from dotenv import load_dotenv\n",
    "load_dotenv('.env')\n",
    "from libs.neo4j_functions import run_query"
   ]
  },
  {
   "cell_type": "code",
   "execution_count": 2,
   "metadata": {},
   "outputs": [
    {
     "name": "stderr",
     "output_type": "stream",
     "text": [
      "/home/manoj/Github/agent_rag_tools/venv/lib/python3.9/site-packages/sentence_transformers/cross_encoder/CrossEncoder.py:11: TqdmExperimentalWarning: Using `tqdm.autonotebook.tqdm` in notebook mode. Use `tqdm.tqdm` instead to force console mode (e.g. in jupyter console)\n",
      "  from tqdm.autonotebook import tqdm, trange\n",
      "Received notification from DBMS server: {severity: WARNING} {code: Neo.ClientNotification.Statement.UnknownPropertyKeyWarning} {category: UNRECOGNIZED} {title: The provided property key is not in the database} {description: One of the property names in your query is not available in the database, make sure you didn't misspell it or that the label is available when you run this statement in your application (the missing property name is: textEmbededding)} {position: line: 1, column: 27, offset: 26} for query: 'match (p:Product) where p.textEmbededding is NULL return p.name as node_text'\n"
     ]
    }
   ],
   "source": [
    "from sentence_transformers import SentenceTransformer\n",
    "\n",
    "\n",
    "\n",
    "sentence_transformers_model = SentenceTransformer(\"all-MiniLM-L6-v2\")\n",
    "\n",
    "node_texts = run_query(\"match (p:Product) where p.textEmbededding is NULL return p.name as node_text\")\n",
    "\n",
    "\n",
    "\n"
   ]
  },
  {
   "cell_type": "code",
   "execution_count": 3,
   "metadata": {},
   "outputs": [],
   "source": [
    "if len(node_texts) >1:\n",
    "      sentences = [n['node_text'] for n in node_texts]\n",
    "      sentences = [s if s is not None else \"No Product name\" for s in sentences]\n",
    "      sentences_embeddings = sentence_transformers_model.encode(sentences)\n",
    "      for sentence, sentences_embed in zip(sentences, sentences_embeddings):\n",
    "            run_query(\"\"\"MATCH (p:Product) WHERE p.textEmbedding IS NULL and p.name = $chunkText set p.textEmbedding = $ChunkEmbTextparam\"\"\", params={'chunkText': sentence, 'ChunkEmbTextparam': sentences_embed.tolist() })\n"
   ]
  },
  {
   "cell_type": "code",
   "execution_count": 4,
   "metadata": {},
   "outputs": [],
   "source": [
    "VECTORY_SEARCH_QUERY = \"\"\"\n",
    "// find products by similarity search in vector index\n",
    "CALL db.index.vector.queryNodes($index_name, 10, $embedding) yield node as product, score\n",
    "\n",
    "MATCH (product)<-[:BOUGHT]-(c:Customer)-[:WROTE]->(r:Review)\n",
    "RETURN product.name, collect (r.text)[0..5] as reviews\n",
    "\"\"\"\n",
    "\n",
    "# // enrich with additional explicit relationships from the knowledge graph\n",
    "# MATCH (product)-[:HAS_CATEGORY]->(cat), (product)-[:BY_BRAND]->(brand)\n",
    "\n",
    "# OPTIONAL MATCH (product)<-[:BOUGHT]-(customer)-[WROTE:RATED]->(product) \n",
    "#          WHERE rated.rating = 5\n",
    "# OPTIONAL MATCH (product)-[:HAS_REVIEW]->(review)<-[:WROTE]-(customer) \n",
    "\n",
    "# RETURN product.Name, product.Description, brand.Name, cat.Name, \n",
    "#        collect(review { .Date, .Text })[0..5] as reviews"
   ]
  },
  {
   "cell_type": "code",
   "execution_count": 5,
   "metadata": {},
   "outputs": [],
   "source": [
    "def return_context(prompt):\n",
    "    prompt_embedded = sentence_transformers_model.encode(prompt)\n",
    "    response = run_query(VECTORY_SEARCH_QUERY, params={\"embedding\": prompt_embedded, 'index_name':'product_index'})\n",
    "    return '\\n'.join(\n",
    "            [\n",
    "            f'Product: {each.get(\"product.name\")}. '\n",
    "            + 'Review: ' \n",
    "            + '. '.join([s.replace('r.', '') for s in each.get('reviews')]) \n",
    "            + '.'\n",
    "            for each in response\n",
    "            ]\n",
    "        )"
   ]
  },
  {
   "cell_type": "code",
   "execution_count": 6,
   "metadata": {},
   "outputs": [],
   "source": [
    "from typing import Annotated\n",
    "\n",
    "from typing_extensions import TypedDict\n",
    "\n",
    "from langgraph.graph.message import AnyMessage, add_messages\n",
    "\n",
    "\n",
    "class State(TypedDict):\n",
    "    messages: Annotated[list[AnyMessage], add_messages]\n",
    "    context: str"
   ]
  },
  {
   "cell_type": "code",
   "execution_count": 18,
   "metadata": {},
   "outputs": [],
   "source": [
    "from langchain_experimental.llms.ollama_functions import OllamaFunctions, convert_to_ollama_tool\n",
    "from libs.tool_def import get_metric_values, get_unique_dimension_values, get_available_columns\n",
    "from langchain_core.output_parsers import JsonOutputParser\n",
    "from datetime import datetime\n",
    "from langchain_core.prompts import ChatPromptTemplate, PromptTemplate\n",
    "from langchain_core.runnables import Runnable, RunnableConfig\n",
    "from langchain_core.messages import AIMessage\n",
    "import os\n",
    "\n",
    "class Assistant:\n",
    "    def __init__(self, runnable: Runnable):\n",
    "        self.runnable = runnable\n",
    "\n",
    "    def __call__(self, state: State, config: RunnableConfig):\n",
    "        # while True:\n",
    "        configuration = config.get(\"configurable\", {})\n",
    "        # passenger_id = configuration.get(\"passenger_id\", None)\n",
    "        # state = {**state, \"user_info\": passenger_id}\n",
    "        \n",
    "        # print_messages(state,'ASSISTANT')\n",
    "        result = self.runnable.invoke(state)\n",
    "        \n",
    "        # If the LLM happens to return an empty response, we will re-prompt it\n",
    "        # for an actual response.\n",
    "        # if not result.tool_calls and (\n",
    "        #     not result.content\n",
    "        #     or isinstance(result.content, list)\n",
    "        #     and not result.content[0].get(\"text\")\n",
    "        # ):\n",
    "        #     messages = state[\"messages\"] + [(\"user\", \"Respond with a real output.\")]\n",
    "        #     state = {**state, \"messages\": messages}\n",
    "        # else:\n",
    "        #     break\n",
    "        return {\"messages\": result}\n",
    "\n",
    "\n",
    "from langchain_openai import ChatOpenAI\n",
    "from langchain_ollama import ChatOllama\n",
    "from langchain.callbacks.manager import CallbackManager\n",
    "from langchain.callbacks.streaming_stdout import StreamingStdOutCallbackHandler\n",
    "\n",
    "# OLLAMA FUNCTION DOES not working (loops infinitely)\n",
    "# llm = OllamaFunctions(\n",
    "#     model=\"llama3-groq-tool-use:latest\", \n",
    "#     base_url='http://localhost:11434',\n",
    "#     format='json'\n",
    "#     )\n",
    "\n",
    "# OLLAMA FUNCTIONS SERVED USING LITELLM PROXY not working (loops infinitely)\n",
    "# llm = ChatOpenAI(model=\"something\", base_url=\"http://localhost:4000/v1\", api_key=\"llama3\", temperature=0, stop_sequences=[\"response\"])\n",
    "\n",
    "# USING OPENAI with openai's model, THE WHOLE THING WORKS\n",
    "# llm = ChatOpenAI(model=\"gpt-4o-mini\", api_key=os.getenv('OPENAI_API_KEY'))   \n",
    "\n",
    "# USING OPENAI WITH local model and using LITELLM, the agents get the answer, but does not stop\n",
    "# llm = ChatOpenAI(model=\"llama3-groq-tool-use:latest\", base_url=\"http://localhost:4000/v1\", api_key=\"ollama\")\n",
    "\n",
    "\n",
    "# USING CHATOLLAMA (use env variable OLLAMA_HOST=http://127.0.0.1:11434), THIS WORKS as well, but only on ovh hardware, not on local RTX\n",
    "llm = ChatOllama(model=\"llama3.1:8b-instruct-fp16\", temperature=0)\n",
    "# llm = ChatOllama(model=\"llama3-groq-tool-use\", temperature=0)\n",
    "\n",
    "\n",
    "primary_assistant_prompt = ChatPromptTemplate.from_messages(\n",
    "    [\n",
    "        (\n",
    "            \"system\",\n",
    "            \"You are a helpful assistant that answers user question only based on the context.\"\n",
    "            # \"You have access to three tools: get_unique_dimension_values, get_metric_values, get_available_columns.\"\n",
    "            # \"For any question related to getting unique columns, metric values or available columns, use the provided tools to answer questions.\"\n",
    "            # \"Never make up your own answers based on your knowledge. Base all your answers from tool messages.\"\n",
    "            # \" When searching, be persistent. Expand your query bounds if the first search returns no results. \"\n",
    "            # \" If a search comes up empty, expand your search before giving up.\"\n",
    "            # \" If you have a response from a tool that answers the question, generate the final answer\"\n",
    "            # \"\\nCurrent time: {time}.\",\n",
    "        ),\n",
    "        (\"placeholder\", \"{messages}\"),\n",
    "    ]\n",
    ").partial(time=datetime.now())\n",
    "\n",
    "\n",
    "\n",
    "part_1_assistant_runnable =  primary_assistant_prompt | llm"
   ]
  },
  {
   "cell_type": "code",
   "execution_count": 19,
   "metadata": {},
   "outputs": [],
   "source": [
    "from langgraph.checkpoint.sqlite import SqliteSaver\n",
    "from langgraph.graph import END, StateGraph, START\n",
    "from langgraph.prebuilt import tools_condition\n",
    "\n",
    "   \n",
    "builder = StateGraph(State)\n",
    "\n",
    "\n",
    "# Define nodes: these do the work\n",
    "# builder.add_node(\"first_agent\", first_agent)\n",
    "builder.add_node(\"assistant\", Assistant(part_1_assistant_runnable))\n",
    "# Define edges: these determine how the control flow moves\n",
    "builder.add_edge(START, \"assistant\")\n",
    "builder.add_edge(\"assistant\", END)\n",
    "\n",
    "# The checkpointer lets the graph persist its state\n",
    "# this is a complete memory for the entire graph.\n",
    "memory = SqliteSaver.from_conn_string(\":memory:\")\n",
    "part_1_graph = builder.compile(checkpointer=memory)"
   ]
  },
  {
   "cell_type": "code",
   "execution_count": 20,
   "metadata": {},
   "outputs": [
    {
     "data": {
      "image/jpeg": "[encoded data removed]",
      "text/plain": [
       "<IPython.core.display.Image object>"
      ]
     },
     "metadata": {},
     "output_type": "display_data"
    }
   ],
   "source": [
    "from IPython.display import Image, display\n",
    "\n",
    "try:\n",
    "    display(Image(part_1_graph.get_graph(xray=True).draw_mermaid_png()))\n",
    "except Exception:\n",
    "    # This requires some extra dependencies and is optional\n",
    "    pass"
   ]
  },
  {
   "cell_type": "code",
   "execution_count": 21,
   "metadata": {},
   "outputs": [],
   "source": [
    "def _print_event(event: dict, _printed: set, max_length=1500):\n",
    "    print(event)\n",
    "    current_state = event.get(\"dialog_state\")\n",
    "    if current_state:\n",
    "        print(\"Currently in: \", current_state[-1])\n",
    "    message = event.get(\"messages\")\n",
    "    if message:\n",
    "        if isinstance(message, list):\n",
    "            message = message[-1]\n",
    "        if message.id not in _printed:\n",
    "            msg_repr = message.pretty_repr(html=True)\n",
    "            if len(msg_repr) > max_length:\n",
    "                msg_repr = msg_repr[:max_length] + \" ... (truncated)\"\n",
    "            print(msg_repr)\n",
    "            _printed.add(message.id)"
   ]
  },
  {
   "cell_type": "code",
   "execution_count": 24,
   "metadata": {},
   "outputs": [
    {
     "name": "stdout",
     "output_type": "stream",
     "text": [
      "{'messages': [HumanMessage(content='you have this context: Product: Philips Norelco 7610X Quadra7 Men\\'s Shaving System. Review: This is a very good and basic shaver without all of the extras. It shaves as close as the more expensive models but does not have all of the bells and whistles. My biggest complaint is that you can not shave while it is charging, which I think is a major flaw. Overall I like it and for the money I am very satisfied with it.\\', rating = 4.0, summary = \\'Good deal for the money.. Have had this shaving system for nearly 3 weeks. Enjoying the convenience and it seems to do the job. Too good to last but Amazon wants a review now.\\', rating = 4.0, summary = \\'Good bargain. How long will it last?. As always I get excellent shaves with Norelco. My only complaint would be their continued use of NiCad batteries. If they would switch to NiMH I wouldn\\'t have to run the batteries down before recharging them, which can be inconvenient.\\', rating = 4.0, summary = \\'excellent performance. This particular Norelco is only fair compared to an another one I have; However, I realize that my other Norelco is a more expensive model.\\', rating = 3.0, summary = \\'Norelco shaver. works fine - great buy. Would easiliy recommend for someone who is looking for a cheap and good alternative to wet shaves.\\', rating = 4.0, summary = \\'Good value for money.\\nProduct: Philips Norelco HP6350 Moi for Me Women\\'s Electric Shaver. Review: I bought this shaver because of its slim design. I was hoping it would replace my traditional razor, but I was wrong. It didn\\'t shave well and I had to make several passes before I got good results. As with other reviewers, I had issues with the blade guard falling off. After 6 months it was unusable because the blade guard just would not stay on. I called Norelco customer service and they sent me a new guard. The new guard fell off less than 5 minutes after I put it on. There\\'s definitely something faulty with the clips that are supposed to hold it in place. I was so fed-up Moi for Me went right into the trash.\\', rating = 1.0, summary = \\'Disappointing. I am not happy with the product at all or with your company as I had to send it back and received a different one and I do not like it at all.\\', rating = 1.0, summary = \\'Ms.. I have tried and tried to get my razor to charge and it will not do so. Since I did away with the packaging I did not think it could be returned so I am indebted for $28.00 for a product that does not work. As you can imagine, I am not very happy with this purchase.\\', rating = 1.0, summary = \\'Very disappointed. Instructions were charge for 16 hrs., however, it never charged. I had order this razor because it was the only electric razor available for women, needless to say it wasn\\'t worth my time.\\', rating = 1.0, summary = \\'Doesn\\'t work. Won\\'t charge. Instructions say needs to be off to charge-after it wouldn\\'t charge after 24 hours I pushed button and tried again. Still wouldn\\'t charge. Cute product. Wish it worked.\\', rating = 1.0, summary = \\'won\\'t charge.\\nProduct: Philips Norelco 6844XL Reflex Plus Electric Rechargeable Shaver. Review: This is a good shaver that was priced right when I bought it. It shaves very well and does not bother my skin. This razor does a nice consistent job and does not have any issues as of yet.\\', rating = 5.0, summary = \\'Good Shaver Great Price. This electric razor is an example of poor constuction. To date my prior Norelco Razors had metallic heads. This one is plastic. There was no literature included in the package to inform me of battery number ot type. I would not recommend this model.\\', rating = 2.0, summary = \\'Poor Quality. Great performance overall. I have never had an electric razor before, and it was not difficult to adjust to this one. During the three months that I have used it, I have been very satisfied.\\', rating = 5.0, summary = \\'Satisfied. This shaver works fine but can use a little more power for its moto Other than that, I really like the flexable shaving elements that follow the curves on the face.\\', rating = 4.0, summary = \\'Inexpensive but works. Have used it on couple of days growth. I do get nearly clean shave, but get skin irritation also. Couple of missed or pulled hai What I like is the quick charge and be able to use it corded as I am not regular shave Decent value for money ($30) paid.\\', rating = 4.0, summary = \\'Basic quick charge cord/cordless shave.\\nProduct: Philips Norelco 8140XL SpeedXL Men\\'s Shaver. Review: I went through two of these over the last 3 years. The first one failed after one yea I received a replacement from Norelco because it was still under warrenty. The second one lasted two years. I opened it up and it appeared the motor burned out. There was a burnt smell coming from the moto I liked the shave but these things just do not last very long. I have a 15 yr old 885RX and it works great. Still gives a pretty good shsve. You can see the difference in quality. The 885RX had much better construction than the 8140. I just ordered a Panasonic ES7103K. The reviews indicate it is well constructed.\\', rating = 1.0, summary = \\'Good shave, but does not last long. works great\\', rating = 4.0, summary = \\'Four Stars. Thought I would see a difference. I should have saved my money\\', rating = 2.0, summary = \\'Save your money. Still works well after 6 years of usage and more convenient design than the newest 2D Norelco models. It works also quitely than the newest 2D handsome blue-design model, which has trimmer only as an attachment, not as a part of the main body. Do not waste your money buying the newest Norelco otherwise handsome blue-colored models, this works as well for less money. Definitely the better value for your money!\\', rating = 5.0, summary = \\'Better model than the newest blue-design Norelco models!. I really can\\'t complain about this shave I bought it in November of 2005, which is nine years ago, and it is still working, and the battery has only just begun to seem like it needs to be charged a little more often (maybe every 2 weeks now - I don\\'t keep close track). Based on longevity alone, I can\\'t fault it. As for the shave, \"Meh.\" It doesn\\'t cut, scrape, or pull, and it doesn\\'t hurt. It doesn\\'t shave super-close, and, frankly, when I replaced the cutters after about 8 years, I didn\\'t notice a significant improvement. I did not expect a super-close razor shave when I got it, as I have the kind of beard that produces a five o\\'clock shadow at noon, so who would really notice if it showed up at 11, and shaving with an electric is much simpler and faster, and, in an emergency, can be done almost anywhere (I was a medical resident when I bought it, so being able to shave in inhospitable surroundings had become important). If you want a shaver that will give good service, but aren\\'t obsessed with closeness, this one will do the job, and may save you a LOT of money on razors and shaving cream if you use it for as long as I did.\\', rating = 4.0, summary = \\'Durable, but Not a Super-Close Shave.\\nProduct: Factory Reconditioned Remington WDF-3000RBP Smooth &amp; Silky Rechargeable Shaver. Review: I ordered this with some trepidation, having used electric razors before and found them pretty useless...ineffectual. I used disposable razors for years but ultimately got tired of carving myself up & stopped shaving altogethe Then I read a review of the newer electrics elsewhere, which referred to this model as the \"BMW of shavers\". They also noted many people were equally satified with the lower end model-so I came to Amazon looking for that one, and found this, reconditioned for about the same price. I have to admit that I bought it fully expecting not to be satified but got a pleasant suprise. It is almost as close as a razor! All that said, if you\\'ve been unsatified with other electrics, this one is worth a try.\\', rating = 5.0, summary = \\'it works!. This is a great rechargeable razor for daily use and I couldn\\'t find parts for my old one anywhere so I ordered this one. It is working well and the blades and foil are so smooth. Thank you\\', rating = 5.0, summary = \\'Great Razor for the price. Wow, where have you been all my life? At first, after using Norelco triple headers since college, I didn\\'t like this razor because the foil pulled at all my hairs. But, after I found out that you have to use the scissor action blades first, I love the second follow-up closeness with the foils. I think that my wife likes the frequency of my shaving a lot better now!\\', rating = 5.0, summary = \\'No more mountain man!. Good price and shaves close. Holds a charge well.\\', rating = 4.0, summary = \\'Good purchase. Good\\', rating = 5.0, summary = \\'Five Stars.\\nProduct: Philips Norelco 9160XL SmartTouch-XL Men\\'s Shaver. Review: The shaver is light and seems to do a good job. I am using it as a back up shaver at the present time. I do not have any complaints.\\', rating = 4.0, summary = \\'CFlat44. Carnig, my husband, liked everything about this razor--in fact he really would like a new head for it--so he could still continue to use it !!!\\', rating = 5.0, summary = \\'This is my favorite!!. For some reason, my husband always insisted on a corded razo He finally gave up the cord and loves this razo He can shave while walking around, in the car, or anywhere he chooses. This is a great razor and one that requires you to rinse it out so it is always cleaned out. The lights let you know when to charge and when to clean it with wate It charges rapidly and has never let him down yet and he has been using it for over a year now.\\', rating = 5.0, summary = \\'Husband loves it. Works great holdsa charge a long time\\', rating = 5.0, summary = \\'Five Stars. A very competent electric shave You can rinse it out under a tap, which simplifies cleaning.\\', rating = 5.0, summary = \\'I love it.\\nProduct: Philips Norelco 8160XLCC SpeedXL Jet Clean Men\\'s Shaving Set. Review: Bought the 8270XLCC \"Jet Clean\" for Hubbie. He has owned 4 Norleco rotory shavers over the years. He took this one back. It is WAY underpowered. At first he thought it had not fully charged - but it had. Says it is fine for a teenage boy in his first year of shaving, or for someone that loves to spend 30 mins looking at his face in the morning while going over and over the same area to catch the whiskers. Having to unplug the charging / cleaning station is another design flaw.\\', rating = 2.0, summary = \\'Underpowered Norelco. The shave delivered is OK. Probably a bit better than average. After a period of time (the unit decides this and not you) the \\'change the blades\\' light comes on. Until you do this the light stays on, effectively killing the battery life until you buy new blades. When I called Phillips on this they expressed \\'surprise\\' and replaced my razor, but how can this be when others in this review process report the same thing? Phillips really screwed up on this one. Do NOT buy this unit!\\', rating = 2.0, summary = \\'Built-in process to kill the batteries. My fiance has had the razor for over 2 years now, and it\\'s still working great! It\\'s very quiet, half the time he thinks the battery is dead it\\'s so quiet. It\\'s simple to keep clean too. It shaves nice and close, for that soft baby skin feeling.\\', rating = 5.0, summary = \\'great shaver. Got this awhile back for my son and he still uses it and loves it was a great buy.\\', rating = 5.0, summary = \\'Son loves it. The razor worked fine and did a good job. After about two years it just died. I have no idea what was wrong with it. It would not charge. It would not work with the cord pluged in. No idication what the problem was. I still had my old one, so I threw this one away and have been using the old one (which I have had for over 8 years)which is still going strong. For the money, this one was a waste.\\', rating = 2.0, summary = \\'Short Life.\\nProduct: Philips Norelco 7800XLCC Jet Clean System Men\\'s Shaver. Review: I bought this for my son for college and here are his comments: \"The razor works great. It\\'s the closest shave I have been able to obtain with an eletric razo The cleaning base is a great idea, because it does all the work for you, and the only thing you have to remember is to put it on the base. My only complaint is that on my base the male plug broke off. It was probably just a random chance accident that it happened with mine. They are repairing it now and I am supposed to have a new unit soon, so Phillips was good about that. All in all a very great razor, especially for the sale price of $50!\"\\', rating = 5.0, summary = \\'Great Razor. I haven\\'t bought a Norelco shaver for years and thought that this one would be hot. Unfortunately, it isn\\'t. It\\'s ok, but I expected more for the price. My old Norelco shaver was made of heavy, strong metal and felt like a good, solid razo This is is light and feels like a lightweight, cheap, aluminum razo The shave is ok, but not great. I also don\\'t like this gimmick of having to buy cleaning solution for the base every two weeks. Once every few months would be ok. I do like the fact that you can rinse the shaver under water to clean. A decent razor, but not worthy of the name Norelco.\\', rating = 3.0, summary = \\'PASSABLE. Razor works great but it\\'s easier to open it and run water over it to clean because the cradle doesn\\'t get all the hair out.\\', rating = 2.0, summary = \\'Doesn\\'t clean as expected. We received the razor in great condition. I gave it to my boyfriend for Christmas and it took some time to get it started, because we didn\\'t want to miss something, but he has used it everyday and really likes it. The shave is smooth. It took time to get used to it because he couldn\\'t feel it working.\\', rating = 5.0, summary = \\'Great Razor. This shaver is ok but has an electronic problem. I get clean shave with little bit of effort but, My main problem is with ON/OFF button. Just after using this for 3-4 months my shaver ON/OFF button stopped working. It is always in ON position I can\\'t switch off the razo The only way it switches off is when the battery runs out.\\', rating = 2.0, summary = \\'Not so great.\\nProduct: Panasonic ES8092NC Men\\'s Pivot Action Pro-Curve Wet/Dry Rechargeable Linear Shaver (Blue). Review: I ordered a refurbished ES8092 from Amazon link. One year warranty. The battery stopped charging. I asked for replacement. AFter much hassle and one month, they sent a replacement. 2 months after the warranty ran out, the replacement battery failed to hold a charge the same way. Great shave Terrible battery.\\', rating = 1.0, summary = \\'ES8092 Battery Recharge Failure. I have had the ES8092 for about 3 years. Great razo Great shave. Better than several other brands top razors including Norelco Braun and Remington. I\\'ve tried them all. This is my second Panasonic Wet / Dry. It has never given me aproblem or failed. Holds a charge for a two week trip, being used every day. The only complaint is that the razor is not cheap, I paid around $100, but the foil and cutter are supposed to be replaced annually, at a cost of approx $50 each time. I have been replacing both at the same time but I think you could get by with going a little longer on the cutter than the foil. But the bottom lime for me today is rather than invest another $50 on a 3 year old razor, I will probably buy a new razo\\', rating = 5.0, summary = \\'Great razor - expensive cutter.\\nProduct: Philips Norelco 7745X Cool Skin Lotion Dispensing Cordless Rechargeable Shaver. Review: I purchased this shaver for my 17 year son for Christmas. He loves it, quick and easy and makes a close shave!!\\', rating = 5.0, summary = \\'Great Product!. The Norelco 7745X works as advertised... I\\'ve only had it for a few weeks though. Cleaning is easy and it shaves close. The colors are a little bit loud.\\', rating = 4.0, summary = \\'Works as Advertised. Works with regular shaving foam if you don\\'t want to use the pricey Nivea cartridges, has no problem getting wet in the showe This is what I needed, and what I got. The shave isn\\'t as close as a blade, and you\\'ll want a mirror if you use it in the showe The battery life is fine and the device styling is a little nicer than that of most electric shavers.\\', rating = 4.0, summary = \\'Gets the job done.. I purchased the 7775X and I purchased the model below the 7745X and they both seemed to out-perform the 7745X. Although cleaning is easier, I do not find that this shaver removes the hair from my face with any efficacy at all. I also am not pleased with the way the Nivea Gel/lotion is dispensed from this shave I will not buy this again in the future and may have to purchase the 7775X to receive the shave I was accustomed to.\\', rating = 2.0, summary = \\'NOT ALL THAT. Love the fact you can use this in the showe.makes my mornings go a lot faster Great close shave and the gell is just right..letting the blades glide across you\\'re face Good battery life but why not just charge it after every use\\', rating = 5.0, summary = \\'perfect.. Question:which shaving razer do you recommend for a young male?', id='0c67d414-8a1c-4d33-96fe-6c39a6c5e19d')]}\n",
      "================================\u001b[1m Human Message \u001b[0m=================================\n",
      "\n",
      "you have this context: Product: Philips Norelco 7610X Quadra7 Men's Shaving System. Review: This is a very good and basic shaver without all of the extras. It shaves as close as the more expensive models but does not have all of the bells and whistles. My biggest complaint is that you can not shave while it is charging, which I think is a major flaw. Overall I like it and for the money I am very satisfied with it.', rating = 4.0, summary = 'Good deal for the money.. Have had this shaving system for nearly 3 weeks. Enjoying the convenience and it seems to do the job. Too good to last but Amazon wants a review now.', rating = 4.0, summary = 'Good bargain. How long will it last?. As always I get excellent shaves with Norelco. My only complaint would be their continued use of NiCad batteries. If they would switch to NiMH I wouldn't have to run the batteries down before recharging them, which can be inconvenient.', rating = 4.0, summary = 'excellent performance. This particular Norelco is only fair compared to an another one I have; However, I realize that my other Norelco is a more expensive model.', rating = 3.0, summary = 'Norelco shaver. works fine - great buy. Would easiliy recommend for someone who is looking for a cheap and good alternative to wet shaves.', rating = 4.0, summary = 'Good value for money.\n",
      "Product: Philips Norelco HP6350 Moi for Me Women's Electric Shaver. Review: I bough ... (truncated)\n",
      "{'messages': [HumanMessage(content='you have this context: Product: Philips Norelco 7610X Quadra7 Men\\'s Shaving System. Review: This is a very good and basic shaver without all of the extras. It shaves as close as the more expensive models but does not have all of the bells and whistles. My biggest complaint is that you can not shave while it is charging, which I think is a major flaw. Overall I like it and for the money I am very satisfied with it.\\', rating = 4.0, summary = \\'Good deal for the money.. Have had this shaving system for nearly 3 weeks. Enjoying the convenience and it seems to do the job. Too good to last but Amazon wants a review now.\\', rating = 4.0, summary = \\'Good bargain. How long will it last?. As always I get excellent shaves with Norelco. My only complaint would be their continued use of NiCad batteries. If they would switch to NiMH I wouldn\\'t have to run the batteries down before recharging them, which can be inconvenient.\\', rating = 4.0, summary = \\'excellent performance. This particular Norelco is only fair compared to an another one I have; However, I realize that my other Norelco is a more expensive model.\\', rating = 3.0, summary = \\'Norelco shaver. works fine - great buy. Would easiliy recommend for someone who is looking for a cheap and good alternative to wet shaves.\\', rating = 4.0, summary = \\'Good value for money.\\nProduct: Philips Norelco HP6350 Moi for Me Women\\'s Electric Shaver. Review: I bought this shaver because of its slim design. I was hoping it would replace my traditional razor, but I was wrong. It didn\\'t shave well and I had to make several passes before I got good results. As with other reviewers, I had issues with the blade guard falling off. After 6 months it was unusable because the blade guard just would not stay on. I called Norelco customer service and they sent me a new guard. The new guard fell off less than 5 minutes after I put it on. There\\'s definitely something faulty with the clips that are supposed to hold it in place. I was so fed-up Moi for Me went right into the trash.\\', rating = 1.0, summary = \\'Disappointing. I am not happy with the product at all or with your company as I had to send it back and received a different one and I do not like it at all.\\', rating = 1.0, summary = \\'Ms.. I have tried and tried to get my razor to charge and it will not do so. Since I did away with the packaging I did not think it could be returned so I am indebted for $28.00 for a product that does not work. As you can imagine, I am not very happy with this purchase.\\', rating = 1.0, summary = \\'Very disappointed. Instructions were charge for 16 hrs., however, it never charged. I had order this razor because it was the only electric razor available for women, needless to say it wasn\\'t worth my time.\\', rating = 1.0, summary = \\'Doesn\\'t work. Won\\'t charge. Instructions say needs to be off to charge-after it wouldn\\'t charge after 24 hours I pushed button and tried again. Still wouldn\\'t charge. Cute product. Wish it worked.\\', rating = 1.0, summary = \\'won\\'t charge.\\nProduct: Philips Norelco 6844XL Reflex Plus Electric Rechargeable Shaver. Review: This is a good shaver that was priced right when I bought it. It shaves very well and does not bother my skin. This razor does a nice consistent job and does not have any issues as of yet.\\', rating = 5.0, summary = \\'Good Shaver Great Price. This electric razor is an example of poor constuction. To date my prior Norelco Razors had metallic heads. This one is plastic. There was no literature included in the package to inform me of battery number ot type. I would not recommend this model.\\', rating = 2.0, summary = \\'Poor Quality. Great performance overall. I have never had an electric razor before, and it was not difficult to adjust to this one. During the three months that I have used it, I have been very satisfied.\\', rating = 5.0, summary = \\'Satisfied. This shaver works fine but can use a little more power for its moto Other than that, I really like the flexable shaving elements that follow the curves on the face.\\', rating = 4.0, summary = \\'Inexpensive but works. Have used it on couple of days growth. I do get nearly clean shave, but get skin irritation also. Couple of missed or pulled hai What I like is the quick charge and be able to use it corded as I am not regular shave Decent value for money ($30) paid.\\', rating = 4.0, summary = \\'Basic quick charge cord/cordless shave.\\nProduct: Philips Norelco 8140XL SpeedXL Men\\'s Shaver. Review: I went through two of these over the last 3 years. The first one failed after one yea I received a replacement from Norelco because it was still under warrenty. The second one lasted two years. I opened it up and it appeared the motor burned out. There was a burnt smell coming from the moto I liked the shave but these things just do not last very long. I have a 15 yr old 885RX and it works great. Still gives a pretty good shsve. You can see the difference in quality. The 885RX had much better construction than the 8140. I just ordered a Panasonic ES7103K. The reviews indicate it is well constructed.\\', rating = 1.0, summary = \\'Good shave, but does not last long. works great\\', rating = 4.0, summary = \\'Four Stars. Thought I would see a difference. I should have saved my money\\', rating = 2.0, summary = \\'Save your money. Still works well after 6 years of usage and more convenient design than the newest 2D Norelco models. It works also quitely than the newest 2D handsome blue-design model, which has trimmer only as an attachment, not as a part of the main body. Do not waste your money buying the newest Norelco otherwise handsome blue-colored models, this works as well for less money. Definitely the better value for your money!\\', rating = 5.0, summary = \\'Better model than the newest blue-design Norelco models!. I really can\\'t complain about this shave I bought it in November of 2005, which is nine years ago, and it is still working, and the battery has only just begun to seem like it needs to be charged a little more often (maybe every 2 weeks now - I don\\'t keep close track). Based on longevity alone, I can\\'t fault it. As for the shave, \"Meh.\" It doesn\\'t cut, scrape, or pull, and it doesn\\'t hurt. It doesn\\'t shave super-close, and, frankly, when I replaced the cutters after about 8 years, I didn\\'t notice a significant improvement. I did not expect a super-close razor shave when I got it, as I have the kind of beard that produces a five o\\'clock shadow at noon, so who would really notice if it showed up at 11, and shaving with an electric is much simpler and faster, and, in an emergency, can be done almost anywhere (I was a medical resident when I bought it, so being able to shave in inhospitable surroundings had become important). If you want a shaver that will give good service, but aren\\'t obsessed with closeness, this one will do the job, and may save you a LOT of money on razors and shaving cream if you use it for as long as I did.\\', rating = 4.0, summary = \\'Durable, but Not a Super-Close Shave.\\nProduct: Factory Reconditioned Remington WDF-3000RBP Smooth &amp; Silky Rechargeable Shaver. Review: I ordered this with some trepidation, having used electric razors before and found them pretty useless...ineffectual. I used disposable razors for years but ultimately got tired of carving myself up & stopped shaving altogethe Then I read a review of the newer electrics elsewhere, which referred to this model as the \"BMW of shavers\". They also noted many people were equally satified with the lower end model-so I came to Amazon looking for that one, and found this, reconditioned for about the same price. I have to admit that I bought it fully expecting not to be satified but got a pleasant suprise. It is almost as close as a razor! All that said, if you\\'ve been unsatified with other electrics, this one is worth a try.\\', rating = 5.0, summary = \\'it works!. This is a great rechargeable razor for daily use and I couldn\\'t find parts for my old one anywhere so I ordered this one. It is working well and the blades and foil are so smooth. Thank you\\', rating = 5.0, summary = \\'Great Razor for the price. Wow, where have you been all my life? At first, after using Norelco triple headers since college, I didn\\'t like this razor because the foil pulled at all my hairs. But, after I found out that you have to use the scissor action blades first, I love the second follow-up closeness with the foils. I think that my wife likes the frequency of my shaving a lot better now!\\', rating = 5.0, summary = \\'No more mountain man!. Good price and shaves close. Holds a charge well.\\', rating = 4.0, summary = \\'Good purchase. Good\\', rating = 5.0, summary = \\'Five Stars.\\nProduct: Philips Norelco 9160XL SmartTouch-XL Men\\'s Shaver. Review: The shaver is light and seems to do a good job. I am using it as a back up shaver at the present time. I do not have any complaints.\\', rating = 4.0, summary = \\'CFlat44. Carnig, my husband, liked everything about this razor--in fact he really would like a new head for it--so he could still continue to use it !!!\\', rating = 5.0, summary = \\'This is my favorite!!. For some reason, my husband always insisted on a corded razo He finally gave up the cord and loves this razo He can shave while walking around, in the car, or anywhere he chooses. This is a great razor and one that requires you to rinse it out so it is always cleaned out. The lights let you know when to charge and when to clean it with wate It charges rapidly and has never let him down yet and he has been using it for over a year now.\\', rating = 5.0, summary = \\'Husband loves it. Works great holdsa charge a long time\\', rating = 5.0, summary = \\'Five Stars. A very competent electric shave You can rinse it out under a tap, which simplifies cleaning.\\', rating = 5.0, summary = \\'I love it.\\nProduct: Philips Norelco 8160XLCC SpeedXL Jet Clean Men\\'s Shaving Set. Review: Bought the 8270XLCC \"Jet Clean\" for Hubbie. He has owned 4 Norleco rotory shavers over the years. He took this one back. It is WAY underpowered. At first he thought it had not fully charged - but it had. Says it is fine for a teenage boy in his first year of shaving, or for someone that loves to spend 30 mins looking at his face in the morning while going over and over the same area to catch the whiskers. Having to unplug the charging / cleaning station is another design flaw.\\', rating = 2.0, summary = \\'Underpowered Norelco. The shave delivered is OK. Probably a bit better than average. After a period of time (the unit decides this and not you) the \\'change the blades\\' light comes on. Until you do this the light stays on, effectively killing the battery life until you buy new blades. When I called Phillips on this they expressed \\'surprise\\' and replaced my razor, but how can this be when others in this review process report the same thing? Phillips really screwed up on this one. Do NOT buy this unit!\\', rating = 2.0, summary = \\'Built-in process to kill the batteries. My fiance has had the razor for over 2 years now, and it\\'s still working great! It\\'s very quiet, half the time he thinks the battery is dead it\\'s so quiet. It\\'s simple to keep clean too. It shaves nice and close, for that soft baby skin feeling.\\', rating = 5.0, summary = \\'great shaver. Got this awhile back for my son and he still uses it and loves it was a great buy.\\', rating = 5.0, summary = \\'Son loves it. The razor worked fine and did a good job. After about two years it just died. I have no idea what was wrong with it. It would not charge. It would not work with the cord pluged in. No idication what the problem was. I still had my old one, so I threw this one away and have been using the old one (which I have had for over 8 years)which is still going strong. For the money, this one was a waste.\\', rating = 2.0, summary = \\'Short Life.\\nProduct: Philips Norelco 7800XLCC Jet Clean System Men\\'s Shaver. Review: I bought this for my son for college and here are his comments: \"The razor works great. It\\'s the closest shave I have been able to obtain with an eletric razo The cleaning base is a great idea, because it does all the work for you, and the only thing you have to remember is to put it on the base. My only complaint is that on my base the male plug broke off. It was probably just a random chance accident that it happened with mine. They are repairing it now and I am supposed to have a new unit soon, so Phillips was good about that. All in all a very great razor, especially for the sale price of $50!\"\\', rating = 5.0, summary = \\'Great Razor. I haven\\'t bought a Norelco shaver for years and thought that this one would be hot. Unfortunately, it isn\\'t. It\\'s ok, but I expected more for the price. My old Norelco shaver was made of heavy, strong metal and felt like a good, solid razo This is is light and feels like a lightweight, cheap, aluminum razo The shave is ok, but not great. I also don\\'t like this gimmick of having to buy cleaning solution for the base every two weeks. Once every few months would be ok. I do like the fact that you can rinse the shaver under water to clean. A decent razor, but not worthy of the name Norelco.\\', rating = 3.0, summary = \\'PASSABLE. Razor works great but it\\'s easier to open it and run water over it to clean because the cradle doesn\\'t get all the hair out.\\', rating = 2.0, summary = \\'Doesn\\'t clean as expected. We received the razor in great condition. I gave it to my boyfriend for Christmas and it took some time to get it started, because we didn\\'t want to miss something, but he has used it everyday and really likes it. The shave is smooth. It took time to get used to it because he couldn\\'t feel it working.\\', rating = 5.0, summary = \\'Great Razor. This shaver is ok but has an electronic problem. I get clean shave with little bit of effort but, My main problem is with ON/OFF button. Just after using this for 3-4 months my shaver ON/OFF button stopped working. It is always in ON position I can\\'t switch off the razo The only way it switches off is when the battery runs out.\\', rating = 2.0, summary = \\'Not so great.\\nProduct: Panasonic ES8092NC Men\\'s Pivot Action Pro-Curve Wet/Dry Rechargeable Linear Shaver (Blue). Review: I ordered a refurbished ES8092 from Amazon link. One year warranty. The battery stopped charging. I asked for replacement. AFter much hassle and one month, they sent a replacement. 2 months after the warranty ran out, the replacement battery failed to hold a charge the same way. Great shave Terrible battery.\\', rating = 1.0, summary = \\'ES8092 Battery Recharge Failure. I have had the ES8092 for about 3 years. Great razo Great shave. Better than several other brands top razors including Norelco Braun and Remington. I\\'ve tried them all. This is my second Panasonic Wet / Dry. It has never given me aproblem or failed. Holds a charge for a two week trip, being used every day. The only complaint is that the razor is not cheap, I paid around $100, but the foil and cutter are supposed to be replaced annually, at a cost of approx $50 each time. I have been replacing both at the same time but I think you could get by with going a little longer on the cutter than the foil. But the bottom lime for me today is rather than invest another $50 on a 3 year old razor, I will probably buy a new razo\\', rating = 5.0, summary = \\'Great razor - expensive cutter.\\nProduct: Philips Norelco 7745X Cool Skin Lotion Dispensing Cordless Rechargeable Shaver. Review: I purchased this shaver for my 17 year son for Christmas. He loves it, quick and easy and makes a close shave!!\\', rating = 5.0, summary = \\'Great Product!. The Norelco 7745X works as advertised... I\\'ve only had it for a few weeks though. Cleaning is easy and it shaves close. The colors are a little bit loud.\\', rating = 4.0, summary = \\'Works as Advertised. Works with regular shaving foam if you don\\'t want to use the pricey Nivea cartridges, has no problem getting wet in the showe This is what I needed, and what I got. The shave isn\\'t as close as a blade, and you\\'ll want a mirror if you use it in the showe The battery life is fine and the device styling is a little nicer than that of most electric shavers.\\', rating = 4.0, summary = \\'Gets the job done.. I purchased the 7775X and I purchased the model below the 7745X and they both seemed to out-perform the 7745X. Although cleaning is easier, I do not find that this shaver removes the hair from my face with any efficacy at all. I also am not pleased with the way the Nivea Gel/lotion is dispensed from this shave I will not buy this again in the future and may have to purchase the 7775X to receive the shave I was accustomed to.\\', rating = 2.0, summary = \\'NOT ALL THAT. Love the fact you can use this in the showe.makes my mornings go a lot faster Great close shave and the gell is just right..letting the blades glide across you\\'re face Good battery life but why not just charge it after every use\\', rating = 5.0, summary = \\'perfect.. Question:which shaving razer do you recommend for a young male?', id='0c67d414-8a1c-4d33-96fe-6c39a6c5e19d'), AIMessage(content=\"Based on the reviews I've analyzed, here are some recommendations:\\n\\n**Top Picks:**\\n\\n1. **Panasonic ES8092NC**: This is a highly-rated wet/dry rechargeable shaver that offers a close shave and easy cleaning.\\n2. **Philips Norelco 7745X**: This cordless rechargeable shaver is also well-liked for its ease of use, quick shaving, and comfortable design.\\n\\n**Other Options:**\\n\\n1. **Panasonic ES-LA63-S**: A more affordable option that still offers a close shave and easy cleaning.\\n2. **Braun Series 7**: A high-end shaver with advanced features like SensoFoil and OptiFoils for a smooth shave.\\n\\nWhen choosing a shaving razor, consider the following factors:\\n\\n1. **Skin type**: If you have sensitive skin, look for razors with gentle features or hypoallergenic materials.\\n2. **Shaving style**: If you prefer a wet shave, choose a razor that can handle water and shaving cream.\\n3. **Budget**: Set a price range and balance it with the features and quality you need.\\n\\nUltimately, the best shaving razor for a young male will depend on individual preferences and needs. I recommend reading more reviews and trying out different options to find the one that works best for you!\", response_metadata={'model': 'llama3.1:8b-instruct-fp16', 'created_at': '2024-08-11T10:29:02.927933567Z', 'message': {'role': 'assistant', 'content': ''}, 'done_reason': 'stop', 'done': True, 'total_duration': 5942589804, 'load_duration': 622800, 'prompt_eval_duration': 40274000, 'eval_count': 272, 'eval_duration': 5752880000}, id='run-09a5931e-b64a-47b0-99fa-c8d13275e39d-0')]}\n",
      "==================================\u001b[1m Ai Message \u001b[0m==================================\n",
      "\n",
      "Based on the reviews I've analyzed, here are some recommendations:\n",
      "\n",
      "**Top Picks:**\n",
      "\n",
      "1. **Panasonic ES8092NC**: This is a highly-rated wet/dry rechargeable shaver that offers a close shave and easy cleaning.\n",
      "2. **Philips Norelco 7745X**: This cordless rechargeable shaver is also well-liked for its ease of use, quick shaving, and comfortable design.\n",
      "\n",
      "**Other Options:**\n",
      "\n",
      "1. **Panasonic ES-LA63-S**: A more affordable option that still offers a close shave and easy cleaning.\n",
      "2. **Braun Series 7**: A high-end shaver with advanced features like SensoFoil and OptiFoils for a smooth shave.\n",
      "\n",
      "When choosing a shaving razor, consider the following factors:\n",
      "\n",
      "1. **Skin type**: If you have sensitive skin, look for razors with gentle features or hypoallergenic materials.\n",
      "2. **Shaving style**: If you prefer a wet shave, choose a razor that can handle water and shaving cream.\n",
      "3. **Budget**: Set a price range and balance it with the features and quality you need.\n",
      "\n",
      "Ultimately, the best shaving razor for a young male will depend on individual preferences and needs. I recommend reading more reviews and trying out different options to find the one that works best for you!\n"
     ]
    }
   ],
   "source": [
    "import uuid\n",
    "config = {\n",
    "    \"configurable\": {\n",
    "        \"thread_id\": str(uuid.uuid4()),\n",
    "    },\n",
    "}\n",
    "\n",
    "\n",
    "_printed = set()\n",
    "question = \"which shaving razer do you recommend for a young male?\"\n",
    "# question = \"What are the unique values of protocols dimension from procedures table?\"\n",
    "events = part_1_graph.stream(\n",
    "    {\"messages\": ('user', f'you have this context: {str(return_context(question))}. Question:'+question)}, config, stream_mode=\"values\"\n",
    ")\n",
    "for event in events:\n",
    "    _print_event(event, _printed)"
   ]
  },
  {
   "cell_type": "code",
   "execution_count": null,
   "metadata": {},
   "outputs": [],
   "source": []
  }
 ],
 "metadata": {
  "kernelspec": {
   "display_name": "venv",
   "language": "python",
   "name": "python3"
  },
  "language_info": {
   "codemirror_mode": {
    "name": "ipython",
    "version": 3
   },
   "file_extension": ".py",
   "mimetype": "text/x-python",
   "name": "python",
   "nbconvert_exporter": "python",
   "pygments_lexer": "ipython3",
   "version": "3.9.19"
  }
 },
 "nbformat": 4,
 "nbformat_minor": 2
}
